{
 "cells": [
  {
   "cell_type": "code",
   "execution_count": 1,
   "id": "f79f211b",
   "metadata": {},
   "outputs": [],
   "source": [
    "from qiskit import *\n",
    "from qiskit import BasicAer"
   ]
  },
  {
   "cell_type": "code",
   "execution_count": 2,
   "id": "3c9f1951",
   "metadata": {},
   "outputs": [],
   "source": [
    "##Wrongcode\n",
    "# # Writing a fuction to call flip coin\n",
    "# def flip_coin(track=True):\n",
    "#     # initialize a quantum register with a single bit\n",
    "#     q = QuantumRegister(1)\n",
    "\n",
    "#     # initialize a classical register with a single bit\n",
    "#     c = ClassicalRegister(1)\n",
    "    \n",
    "#     # initialize a circuit acting on the single quantum bit\n",
    "#     circuit = QuantumCircuit(q, c)\n",
    "\n",
    "#     # randomize the bit using a Hadamard gate\n",
    "#     circuit.h(q[0])\n",
    "\n",
    "#     # measure the bit\n",
    "#     circuit.measure(q, c)\n",
    "\n",
    "#     # submit job to qasm simulator\n",
    "#     job = execute(circuit, BasicAer.get_backend('qasm_simulator'), shots=1024)\n",
    "\n",
    "#     # determine output\n",
    "#     counts = job.result().get_counts()\n",
    "\n",
    "#     if track:\n",
    "#         print(counts)\n",
    "\n",
    "#     try:\n",
    "#         out = 0\n",
    "#         counts['0']\n",
    "#     except KeyError:\n",
    "#         out = 1\n",
    "\n",
    "#     return out\n",
    "\n",
    "# track = False\n",
    "# count_Head = 0\n",
    "# count_Tail = 0\n",
    "# for i in range(0,1000):\n",
    "#     bit = flip_coin()\n",
    "#     if bit == 0:\n",
    "#         count_Head += 1\n",
    "#     else:\n",
    "#         count_Tail += 1\n",
    "\n",
    "# print(\"Heads: \" + str(count_Head))\n",
    "# print(\"Tails: \" + str(count_Tail))"
   ]
  },
  {
   "cell_type": "code",
   "execution_count": 5,
   "id": "07e6ba46",
   "metadata": {},
   "outputs": [
    {
     "name": "stdout",
     "output_type": "stream",
     "text": [
      "Heads: 522\n",
      "Tails: 478\n"
     ]
    }
   ],
   "source": [
    "from qiskit import QuantumCircuit, QuantumRegister, ClassicalRegister, execute\n",
    "from qiskit import BasicAer\n",
    "\n",
    "# Writing a function to call flip coin\n",
    "def flip_coin(track=False):  # Add track as a parameter with a default value\n",
    "    # initialize a quantum register with a single bit\n",
    "    q = QuantumRegister(1)\n",
    "\n",
    "    # initialize a classical register with a single bit\n",
    "    c = ClassicalRegister(1)\n",
    "    \n",
    "    # initialize a circuit acting on the single quantum bit\n",
    "    circuit = QuantumCircuit(q, c)\n",
    "\n",
    "    # randomize the bit using a Hadamard gate\n",
    "    circuit.h(q[0])\n",
    "\n",
    "    # measure the bit\n",
    "    circuit.measure(q, c)\n",
    "\n",
    "    # submit job to qasm simulator\n",
    "    job = execute(circuit, BasicAer.get_backend('qasm_simulator'), shots=1)\n",
    "\n",
    "    # determine output\n",
    "    counts = job.result().get_counts()\n",
    "\n",
    "    if track:\n",
    "        print(counts)\n",
    "\n",
    "    try:\n",
    "        out = 0\n",
    "        counts['0']\n",
    "    except KeyError:\n",
    "        out = 1\n",
    "\n",
    "    return out\n",
    "\n",
    "# Main Function\n",
    "count_Head = 0\n",
    "count_Tail = 0\n",
    "for i in range(0, 1000):\n",
    "    bit = flip_coin()\n",
    "    if bit == 0:\n",
    "        count_Head += 1\n",
    "    else:\n",
    "        count_Tail += 1\n",
    "\n",
    "print(\"Heads: \" + str(count_Head))\n",
    "print(\"Tails: \" + str(count_Tail))"
   ]
  }
 ],
 "metadata": {
  "kernelspec": {
   "display_name": "Python 3 (ipykernel)",
   "language": "python",
   "name": "python3"
  },
  "language_info": {
   "codemirror_mode": {
    "name": "ipython",
    "version": 3
   },
   "file_extension": ".py",
   "mimetype": "text/x-python",
   "name": "python",
   "nbconvert_exporter": "python",
   "pygments_lexer": "ipython3",
   "version": "3.11.4"
  }
 },
 "nbformat": 4,
 "nbformat_minor": 5
}
